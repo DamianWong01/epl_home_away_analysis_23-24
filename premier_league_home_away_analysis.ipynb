{
 "cells": [
  {
   "cell_type": "code",
   "execution_count": null,
   "id": "b56c8caa",
   "metadata": {},
   "outputs": [],
   "source": [
    "import soccerdata as sd\n",
    "from scipy.stats import ttest_rel\n",
    "%matplotlib inline\n",
    "%config InlineBackend.figure_format = 'retina'\n",
    "\n",
    "import matplotlib.pyplot as plt\n",
    "import pandas as pd\n",
    "import seaborn as sns\n",
    "import plotly.express as px\n",
    "\n",
    "sns.set_theme()"
   ]
  },
  {
   "cell_type": "code",
   "execution_count": null,
   "id": "2033e298",
   "metadata": {},
   "outputs": [],
   "source": [
    "prem_hist = sd.MatchHistory('ENG-Premier League', seasons=2023)\n",
    "games = prem_hist.read_games()\n",
    "games.sample(5)"
   ]
  },
  {
   "cell_type": "code",
   "execution_count": null,
   "id": "89e38076",
   "metadata": {},
   "outputs": [],
   "source": [
    "def home_away_results(games: pd.DataFrame):\n",
    "    \"\"\"Returns aggregated home/away results per team, including average points per game\"\"\"\n",
    "    \n",
    "    # Melt the data to have one row per team per game\n",
    "    res = pd.melt(\n",
    "        games.reset_index(),\n",
    "        id_vars=['date', 'FTR'],\n",
    "        value_name='team', var_name='is_home',\n",
    "        value_vars=['home_team', 'away_team']\n",
    "    )\n",
    "    \n",
    "    res.is_home = res.is_home.replace(['home_team', 'away_team'], ['Home', 'Away'])\n",
    "    \n",
    "    # Initialize points to 0 & assign points based on the result\n",
    "    res['points'] = 0\n",
    "    res.loc[(res['is_home'] == 'Home') & (res['FTR'] == 'H'), 'points'] = 3\n",
    "    res.loc[(res['is_home'] == 'Away') & (res['FTR'] == 'A'), 'points'] = 3\n",
    "    res.loc[res['FTR'] == 'D', 'points'] = 1\n",
    "    \n",
    "    # Group by team and home/away to calculate total and average points\n",
    "    g = res.groupby(['team', 'is_home'])\n",
    "    points = g.points.agg(['sum', 'mean']).rename(columns={'sum': 'total_points', 'mean': 'avg_points_per_game'})\n",
    "    \n",
    "    return points"
   ]
  },
  {
   "cell_type": "code",
   "execution_count": null,
   "id": "e70922c9",
   "metadata": {},
   "outputs": [],
   "source": [
    "results = home_away_results(games)\n",
    "results.head(6)"
   ]
  },
  {
   "cell_type": "code",
   "execution_count": null,
   "id": "fe715336",
   "metadata": {},
   "outputs": [],
   "source": [
    "team_colors = {\n",
    "    'Arsenal': '#EF0107',          # Red\n",
    "    'Aston Villa': '#95BFE5',      # Light Blue\n",
    "    'Bournemouth': '#DA291C',      # Red\n",
    "    'Brentford': '#E30613',        # Red\n",
    "    'Brighton': '#0057B8',         # Blue\n",
    "    'Burnley': '#6C1D45',          # Claret\n",
    "    'Chelsea': '#034694',          # Blue\n",
    "    'Crystal Palace': '#1B458F',   # Blue\n",
    "    'Everton': '#003399',          # Blue\n",
    "    'Fulham': '#000000',           # Black\n",
    "    'Liverpool': '#C8102E',        # Red\n",
    "    'Luton': '#FB4F14',            # Orange\n",
    "    'Man City': '#6CABDD',         # Sky Blue\n",
    "    'Man United': '#DA291C',       # Red\n",
    "    'Newcastle': '#241F20',        # Black\n",
    "    'Nott\\'m Forest': '#DD0000',   # Red\n",
    "    'Sheffield United': '#EE2737', # Red\n",
    "    'Tottenham': '#132257',        # Dark Blue\n",
    "    'West Ham': '#7A263A',         # Claret\n",
    "    'Wolves': '#FFA500',           # Orange\n",
    "}"
   ]
  },
  {
   "cell_type": "code",
   "execution_count": null,
   "id": "6e6bf40f",
   "metadata": {
    "scrolled": true
   },
   "outputs": [],
   "source": [
    "# Interactive line plot with Plotly\n",
    "fig = px.line(results.reset_index(),\n",
    "              x='is_home',\n",
    "              y='avg_points_per_game',\n",
    "              color='team',\n",
    "              line_group='team',\n",
    "              color_discrete_map=team_colors,\n",
    "              hover_data={'team': True, 'avg_points_per_game': ':.2f'},\n",
    "              labels={'avg_points_per_game': 'Average Points per Game'},\n",
    "              title='Average Points per Game: Home vs Away',\n",
    "              markers=True\n",
    ")\n",
    "fig.update_traces(\n",
    "    hovertemplate='Average Points per Game: %{y:.2f}'\n",
    ")\n",
    "fig.update_layout(\n",
    "              xaxis_title=\"\",\n",
    "              yaxis_title=\"Avg Points per Game\",\n",
    "              showlegend=False,\n",
    "              plot_bgcolor='rgba(0,0,0,0)',\n",
    "              xaxis=dict(tickmode='array', tickvals=['Home', 'Away']),\n",
    "              width=600,\n",
    "              height=600,\n",
    "              title_x=0.5\n",
    ")\n",
    "fig.show()\n",
    "fig.write_html(\"interactive_plot.html\")"
   ]
  },
  {
   "cell_type": "code",
   "execution_count": null,
   "id": "7ab258ae",
   "metadata": {},
   "outputs": [],
   "source": [
    "g = sns.FacetGrid(results.reset_index(), col='team', col_wrap=5)\n",
    "g.map(sns.pointplot, 'is_home', 'avg_points_per_game', order=[\"Away\", \"Home\"])\n",
    "g.set_axis_labels('', 'Avg Points per Game');\n",
    "g.set_titles(\"{col_name}\")\n",
    "plt.savefig('home_away_points.png')"
   ]
  },
  {
   "cell_type": "code",
   "execution_count": null,
   "id": "77fecd20",
   "metadata": {},
   "outputs": [],
   "source": [
    "# t-test\n",
    "def paired_t_test_on_points(results: pd.DataFrame):\n",
    "    # Pivot the table to have home and away in separate columns\n",
    "    pivot_table = results.unstack().reset_index()\n",
    "    \n",
    "    # Perform a paired t-test on avg_points_per_game for home and away\n",
    "    home_points = pivot_table['avg_points_per_game']['Home']\n",
    "    away_points = pivot_table['avg_points_per_game']['Away']\n",
    "    \n",
    "    t_stat, p_value = ttest_rel(home_points, away_points)\n",
    "    \n",
    "    return t_stat, p_value\n",
    "\n",
    "# Calculate the t-statistic and p-value\n",
    "t_stat, p_value = paired_t_test_on_points(results)\n",
    "\n",
    "print(f\"T-statistic: {t_stat:.4f}, P-value: {p_value:.4f}\")"
   ]
  },
  {
   "cell_type": "code",
   "execution_count": null,
   "id": "69e79368",
   "metadata": {},
   "outputs": [],
   "source": []
  }
 ],
 "metadata": {
  "kernelspec": {
   "display_name": "Python 3 (ipykernel)",
   "language": "python",
   "name": "python3"
  },
  "language_info": {
   "codemirror_mode": {
    "name": "ipython",
    "version": 3
   },
   "file_extension": ".py",
   "mimetype": "text/x-python",
   "name": "python",
   "nbconvert_exporter": "python",
   "pygments_lexer": "ipython3",
   "version": "3.11.5"
  }
 },
 "nbformat": 4,
 "nbformat_minor": 5
}
